{
 "cells": [
  {
   "cell_type": "markdown",
   "metadata": {},
   "source": [
    "# 파이썬 사용법\n",
    "\n",
    "파이썬으로 알고리즘을 작성하기 위한 실전 사용법"
   ]
  },
  {
   "cell_type": "markdown",
   "metadata": {},
   "source": [
    "## 출력하기"
   ]
  },
  {
   "cell_type": "code",
   "execution_count": 4,
   "metadata": {},
   "outputs": [
    {
     "name": "stdout",
     "output_type": "stream",
     "text": [
      "Hello World!\n"
     ]
    }
   ],
   "source": [
    "print(\"Hello World!\")"
   ]
  },
  {
   "cell_type": "markdown",
   "metadata": {},
   "source": [
    "print() 함수를 통해 출력 가능하며, 개행은 print 함수 사용시 자동으로 개행된다."
   ]
  },
  {
   "cell_type": "markdown",
   "metadata": {},
   "source": [
    "### 줄바꿈 없이 출력하기"
   ]
  },
  {
   "cell_type": "code",
   "execution_count": 5,
   "metadata": {},
   "outputs": [
    {
     "name": "stdout",
     "output_type": "stream",
     "text": [
      "Hello World!\n",
      "Hello World!Hello World!\n"
     ]
    }
   ],
   "source": [
    "print(\"Hello World!\", end=\"\\n\")\n",
    "print(\"Hello World!\", end=\"\")\n",
    "print(\"Hello World!\")"
   ]
  },
  {
   "cell_type": "markdown",
   "metadata": {},
   "source": [
    "print() 함수의 end 매개변수에 지정하여 호출하면 마지막에 출력될 문자를 지정할 수 있다.\n",
    "\n",
    "end 매개변수에 빈 문자열을 주면 개행을 하지 않고 출력할 수 있다. (default가 개행문자이기 떄문)"
   ]
  },
  {
   "cell_type": "markdown",
   "metadata": {},
   "source": []
  },
  {
   "cell_type": "markdown",
   "metadata": {},
   "source": [
    "## 띄어쓰기로 구분된 정수 입력\n",
    "\n",
    "``` python\n",
    "a, b = input(), input()\n",
    "```\n",
    "\n",
    "``` python\n",
    "a, b = map(int, input().split())\n",
    "```\n",
    "1. input().split()을 통해 띄어쓰기로 구분된 문자열을 리스트로 받아온다. \n",
    "1. map(int, 리스트)를 통해 리스트의 각 원소를 int로 변환하여 반환한다. \n",
    "1. 이를 a, b에 각각 저장한다.\n",
    "\n",
    "- input(): 개행 문자 입력시까지 입력 받는다\n",
    "- split(): 특정 문자를 기준으로 나눈 후 리스트를 반환한다.\n",
    "- map(int, [list]): 리스트의 각 요소를 정수형으로 변환한다."
   ]
  },
  {
   "cell_type": "code",
   "execution_count": null,
   "metadata": {},
   "outputs": [],
   "source": [
    "# boj_1000 : A+B\n",
    "\n",
    "print(sum(map(int, input().split())))"
   ]
  },
  {
   "cell_type": "code",
   "execution_count": null,
   "metadata": {},
   "outputs": [],
   "source": [
    "# boj_2558 : A+B - 2\n",
    "\n",
    "a = int(input())\n",
    "b = int(input())\n",
    "print(a+b)"
   ]
  },
  {
   "cell_type": "code",
   "execution_count": null,
   "metadata": {},
   "outputs": [],
   "source": [
    "# boj_1008 : A/B\n",
    "\n",
    "a, b = map(int, input().split())\n",
    "print('%.9f' % (a / b))"
   ]
  },
  {
   "cell_type": "code",
   "execution_count": null,
   "metadata": {},
   "outputs": [],
   "source": [
    "# boj_3046 : R2\n",
    "\n",
    "r1, s = map(int, input().split())\n",
    "print(2 * s - r1)"
   ]
  },
  {
   "cell_type": "code",
   "execution_count": null,
   "metadata": {},
   "outputs": [],
   "source": [
    "# boj_8958 : OX퀴즈\n",
    "\n",
    "n = int(input())\n",
    "for i in range(n):\n",
    "    sum = 0\n",
    "    score = 1\n",
    "\n",
    "    for s in input():\n",
    "        if s=='O':\n",
    "            sum += score\n",
    "            score += 1\n",
    "        else: score = 1\n",
    "    print(sum)\n"
   ]
  },
  {
   "cell_type": "markdown",
   "metadata": {},
   "source": [
    "출처 : https://www.acmicpc.net/workbook/view/459"
   ]
  },
  {
   "cell_type": "markdown",
   "metadata": {},
   "source": [
    "## 1차원 배열"
   ]
  },
  {
   "cell_type": "markdown",
   "metadata": {},
   "source": [
    "### 입력받기"
   ]
  },
  {
   "cell_type": "markdown",
   "metadata": {},
   "source": [
    "#### 1. 공백으로 구분된 정수형 입력"
   ]
  },
  {
   "cell_type": "code",
   "execution_count": null,
   "metadata": {},
   "outputs": [],
   "source": [
    "arr = list(map(int, input().split()))"
   ]
  },
  {
   "cell_type": "markdown",
   "metadata": {},
   "source": [
    "- input(): 개행 문자 입력시까지 입력 받는다\n",
    "- split(): 특정 문자를 기준으로 나눈다\n",
    "- map(int, [list]): 리스트의 각 요소를 정수형으로 변환한다.\n",
    "- list(): 내부 결과를 list로 반환한다."
   ]
  },
  {
   "cell_type": "markdown",
   "metadata": {},
   "source": [
    "#### 2. 개행으로 구분된 정수형 입력"
   ]
  },
  {
   "cell_type": "code",
   "execution_count": null,
   "metadata": {},
   "outputs": [],
   "source": [
    "# 크기가 n인 배열을 생성하고, index로 접근하여 입력 받기\n",
    "\n",
    "n = input()\n",
    "arr = [0 for _ in range(n)]\n",
    "\n",
    "for i in range(n):\n",
    "    arr[i] = input()\n",
    "\n",
    "# boj_4344 : 평균은 넘겠지"
   ]
  },
  {
   "cell_type": "code",
   "execution_count": null,
   "metadata": {},
   "outputs": [],
   "source": [
    "# 빈 배열을 생성하고, append로 입력 받기\n",
    "\n",
    "n = input() # 입력될 줄 수\n",
    "arr = []\n",
    "\n",
    "for _ in range(n):\n",
    "    arr.append(int(input()))"
   ]
  },
  {
   "cell_type": "markdown",
   "metadata": {},
   "source": [
    "빈 배열에 append 함수를 사용하여 추가할 수 있다. 다만 이 방식보다 크기 n 만큼 배열을 초기화하고 인덱스로 접근하여 원소를 추가하는 방식이 효율이 좋다."
   ]
  },
  {
   "cell_type": "code",
   "execution_count": null,
   "metadata": {},
   "outputs": [],
   "source": [
    "# 선언과 동시에 입력 받기\n",
    "\n",
    "n = input() # 입력될 줄 수\n",
    "arr = [int(input()) for _ in range(n)]"
   ]
  },
  {
   "cell_type": "markdown",
   "metadata": {},
   "source": [
    "## 2 차원 배열"
   ]
  },
  {
   "cell_type": "markdown",
   "metadata": {},
   "source": [
    "### 입력받기"
   ]
  },
  {
   "cell_type": "code",
   "execution_count": null,
   "metadata": {},
   "outputs": [],
   "source": [
    "# 크기가 n인 배열을 생성하고, index로 접근하여 입력 받기\n",
    "\n",
    "n = input()\n",
    "arr = [0 for _ in range(n)]\n",
    "\n",
    "for i in range(n):\n",
    "    arr[i] = list(map(int, input().split()))"
   ]
  },
  {
   "cell_type": "code",
   "execution_count": null,
   "metadata": {},
   "outputs": [],
   "source": [
    "# 빈 배열을 생성하고, append로 입력 받기\n",
    "\n",
    "\n",
    "n = input()\n",
    "arr = []\n",
    "\n",
    "arr.append(list(map(int,input().split())))"
   ]
  },
  {
   "cell_type": "markdown",
   "metadata": {},
   "source": [
    "빈 배열에 append 함수를 사용하여 추가할 수 있다. 다만 이 방식보다 크기 n 만큼 배열을 초기화하고 인덱스로 접근하여 원소를 추가하는 방식이 효율이 좋다."
   ]
  },
  {
   "cell_type": "code",
   "execution_count": null,
   "metadata": {},
   "outputs": [],
   "source": [
    "# 선언과 동시에 입력 받기\n",
    "\n",
    "n = input()\n",
    "arr = [list(map(int, input().split())) for _ in range(n)]"
   ]
  },
  {
   "cell_type": "markdown",
   "metadata": {},
   "source": []
  },
  {
   "cell_type": "markdown",
   "metadata": {},
   "source": [
    "### 복사하기"
   ]
  },
  {
   "cell_type": "markdown",
   "metadata": {},
   "source": [
    "#### 얕은 복사"
   ]
  },
  {
   "cell_type": "markdown",
   "metadata": {},
   "source": [
    "#### 깉은 복사"
   ]
  },
  {
   "cell_type": "markdown",
   "metadata": {},
   "source": [
    "## 주석달기"
   ]
  },
  {
   "cell_type": "markdown",
   "metadata": {},
   "source": [
    "### 한 줄 주석"
   ]
  },
  {
   "cell_type": "code",
   "execution_count": null,
   "metadata": {},
   "outputs": [],
   "source": [
    "# This is comment"
   ]
  },
  {
   "cell_type": "markdown",
   "metadata": {},
   "source": [
    "한 줄 주석은 #을 이용한다"
   ]
  },
  {
   "cell_type": "markdown",
   "metadata": {},
   "source": [
    "### 여려 줄 주석"
   ]
  },
  {
   "cell_type": "markdown",
   "metadata": {},
   "source": [
    "파이썬에서는 여러줄을 한 번에 처리하는 주석은 없다"
   ]
  },
  {
   "cell_type": "code",
   "execution_count": null,
   "metadata": {},
   "outputs": [],
   "source": [
    "\"\"\"\n",
    "This is docstrings\n",
    "\"\"\""
   ]
  },
  {
   "cell_type": "markdown",
   "metadata": {},
   "source": [
    "독스트링을 여러 줄 주석의 대안으로 사용할 수는 있다."
   ]
  },
  {
   "cell_type": "code",
   "execution_count": null,
   "metadata": {},
   "outputs": [],
   "source": [
    "sum = 0\n",
    "for i in range(10):\n",
    "\"\"\"\n",
    "this causes error\n",
    "\"\"\"\n",
    "    sum += i\n",
    "print(sum)"
   ]
  },
  {
   "cell_type": "markdown",
   "metadata": {},
   "source": [
    "다만 위와 같이 들여쓰기를 지키지 않으면 error가 발생하니 주의하자"
   ]
  },
  {
   "cell_type": "markdown",
   "metadata": {},
   "source": [
    "## 실행시간을 측정하자"
   ]
  },
  {
   "cell_type": "markdown",
   "metadata": {},
   "source": [
    "### 1. time 모듈"
   ]
  },
  {
   "cell_type": "code",
   "execution_count": 60,
   "metadata": {},
   "outputs": [
    {
     "name": "stdout",
     "output_type": "stream",
     "text": [
      "time = 0.199 sec\n"
     ]
    }
   ],
   "source": [
    "import time\n",
    "\n",
    "start = time.time()\n",
    "\n",
    "# 실행시간을 측정하고 싶은 코드\n",
    "for _ in range(10000000):\n",
    "    pass\n",
    "\n",
    "print(f\"time = {time.time() - start:.3f} sec\")"
   ]
  },
  {
   "cell_type": "markdown",
   "metadata": {},
   "source": [
    "### 2. %%timeit 매직 명령어"
   ]
  },
  {
   "cell_type": "code",
   "execution_count": 59,
   "metadata": {},
   "outputs": [
    {
     "name": "stdout",
     "output_type": "stream",
     "text": [
      "99.6 ms ± 1.81 ms per loop (mean ± std. dev. of 7 runs, 10 loops each)\n"
     ]
    }
   ],
   "source": [
    "%%timeit\n",
    "\n",
    "# 실행시간을 측정하고 싶은 코드\n",
    "for _ in range(10000000):\n",
    "    pass"
   ]
  },
  {
   "cell_type": "markdown",
   "metadata": {},
   "source": [
    "주피터 노트북에서는 %%timeit 매직 명령어를 사용하여 코드의 실행시간을 측정할 수 있다.\n",
    "\n",
    "코드를 반복 실행하여 평균 실행 시간을 측정한다."
   ]
  },
  {
   "cell_type": "markdown",
   "metadata": {},
   "source": [
    "### 3. time 매직 명령어"
   ]
  },
  {
   "cell_type": "code",
   "execution_count": 57,
   "metadata": {},
   "outputs": [
    {
     "name": "stdout",
     "output_type": "stream",
     "text": [
      "CPU times: user 199 ms, sys: 2.03 ms, total: 201 ms\n",
      "Wall time: 201 ms\n"
     ]
    }
   ],
   "source": [
    "%%time\n",
    "\n",
    "# 실행시간을 측정하고 싶은 코드\n",
    "for _ in range(10000000):\n",
    "    pass"
   ]
  },
  {
   "cell_type": "code",
   "execution_count": 58,
   "metadata": {},
   "outputs": [
    {
     "name": "stdout",
     "output_type": "stream",
     "text": [
      "CPU times: user 677 µs, sys: 1.12 ms, total: 1.79 ms\n",
      "Wall time: 1.04 s\n"
     ]
    }
   ],
   "source": [
    "%%time\n",
    "\n",
    "import time\n",
    "\n",
    "# 실행시간을 측정하고 싶은 코드\n",
    "for _ in range(10):\n",
    "    time.sleep(0.1)"
   ]
  },
  {
   "cell_type": "markdown",
   "metadata": {},
   "source": [
    "cpu 시간과 실제 시간을 모두 측정할 수 있다.\n",
    "\n",
    "```\n",
    "CPU times : CPU가 실제로 작업한 시간\n",
    "    sys: cpu가 코드를 실행한 시간\n",
    "    user: jupyter notebook이 사용한 시간\n",
    "    total: sys + user\n",
    "\n",
    "Wall time : 실제로 걸린 시간\n",
    "```\n",
    "\n"
   ]
  },
  {
   "cell_type": "markdown",
   "metadata": {},
   "source": [
    "## 실행시간을 줄여보자"
   ]
  },
  {
   "cell_type": "markdown",
   "metadata": {},
   "source": [
    "### 입력 바꾸기"
   ]
  },
  {
   "cell_type": "code",
   "execution_count": null,
   "metadata": {},
   "outputs": [],
   "source": [
    "import sys\n",
    "var = sys.stdin.readline()"
   ]
  },
  {
   "cell_type": "markdown",
   "metadata": {},
   "source": []
  },
  {
   "cell_type": "markdown",
   "metadata": {},
   "source": [
    "## 메모이제이션\n",
    "\n",
    "### lru_cache\n",
    "\n",
    "lru_cache 데코레이터를 사용하면 함수의 결과를 캐싱하여, 동일 입력이 반복되는 경우의 실행시간을 줄일 수 있다. lru_cache는 과거 함수가 실행된 적이 있으면 함수 전체 코드를 실행하지 않고 리턴 값만 반환한다.\n",
    "\n",
    "> 함수에 전달된 인자가 불변형이어야 한다. (리스트, 딕셔너리 등은 불변형이 아니므로 함수 입력으로 사용할 수 없다)\n",
    "\n",
    "#### 사용법\n",
    "\n",
    "``` python\n",
    "from functools import lru_cache\n",
    "\n",
    "@lru_cache(maxsize=None)\n",
    "def fibo(n):\n",
    "    if n < 2:\n",
    "        return n\n",
    "    return fib(n-1) + fib(n-2)\n",
    "\n",
    "fibo(10)\n",
    "\n",
    "fibo.cache_info() # 캐싱된 결과 확인하기\n",
    "\n",
    "fibo.cache_clear() # 캐싱된 결과 비우기\n",
    "\n",
    "```\n",
    "\n",
    "1. import functools\n",
    "1. @lru_cache(maxsize=None) : 데코레이터를 사용하여 캐싱을 적용한다.\n",
    "1. maxsize=None : 캐싱할 최대 개수를 지정할 수 있다. None을 지정하면 제한이 없다.\n"
   ]
  },
  {
   "cell_type": "code",
   "execution_count": 56,
   "metadata": {},
   "outputs": [
    {
     "name": "stdout",
     "output_type": "stream",
     "text": [
      "832040\n",
      "CPU times: user 96.1 ms, sys: 1.46 ms, total: 97.6 ms\n",
      "Wall time: 96.6 ms\n"
     ]
    }
   ],
   "source": [
    "%%time\n",
    "\n",
    "# cache를 사용하지 않은 경우\n",
    "def fibo_recur(n):\n",
    "    if n < 2:\n",
    "        return n\n",
    "    return fibo_recur(n-1) + fibo_recur(n-2)\n",
    "\n",
    "print(fibo_recur(30))"
   ]
  },
  {
   "cell_type": "code",
   "execution_count": 55,
   "metadata": {},
   "outputs": [
    {
     "name": "stdout",
     "output_type": "stream",
     "text": [
      "139423224561697880139724382870407283950070256587697307264108962948325571622863290691557658876222521294125\n",
      "CacheInfo(hits=498, misses=501, maxsize=3, currsize=3)\n",
      "CPU times: user 209 µs, sys: 137 µs, total: 346 µs\n",
      "Wall time: 345 µs\n"
     ]
    }
   ],
   "source": [
    "%%time\n",
    "\n",
    "# cache를 사용한 경우\n",
    "from functools import lru_cache\n",
    "\n",
    "@lru_cache(maxsize=3)\n",
    "def fibo_cache(n):\n",
    "    if n < 2:\n",
    "        return n\n",
    "    return fibo_cache(n-1) + fibo_cache(n-2)\n",
    "\n",
    "print(fibo_cache(500))\n",
    "print(fibo_cache.cache_info())"
   ]
  },
  {
   "cell_type": "markdown",
   "metadata": {},
   "source": [
    "피보나치 수열을 구할때는 크기가 3인 cache만으로도 실행시간이 크게 줄어든다. 입력이 1씩 작아지며 함수를 재귀적으로 호출하므로 크기 3의 캐시로도 시간 캐싱이 가능한 것이다. (피포나치 수열을 iterative 하게 구현한 것과 동일)\n",
    "\n",
    "위는 특수한 상황으로 일반적으로는 더 큰 캐시를 사용할 것.\n",
    "\n",
    "maxsize를 지정하지 않으면 캐시의 크기가 128로 제한된다. (None으로 크기 제한을 없앨 수 있다.)\n"
   ]
  },
  {
   "cell_type": "markdown",
   "metadata": {},
   "source": [
    "### 직접 구현하기\n",
    "\n",
    "캐싱을 딕셔너리나 리스트로 직접 구현하여 사용할 수도 있다."
   ]
  },
  {
   "cell_type": "code",
   "execution_count": 54,
   "metadata": {},
   "outputs": [
    {
     "data": {
      "text/plain": [
       "251728825683549488150424261"
      ]
     },
     "execution_count": 54,
     "metadata": {},
     "output_type": "execute_result"
    }
   ],
   "source": [
    "# 딕셔너리를 통한 구현\n",
    "\n",
    "cache = {}\n",
    "def fibo(n):\n",
    "    # 1. 기저 사례    \n",
    "    if n < 2:\n",
    "        return n\n",
    "    \n",
    "    # 2. 캐시 확인\n",
    "    if n in cache:\n",
    "        return cache[n]\n",
    "\n",
    "    # 3. 계산 후 캐시에 저장\n",
    "    cache[n] = fibo(n-1) + fibo(n-2)\n",
    "    return cache[n]\n",
    "\n",
    "fibo(128)"
   ]
  },
  {
   "cell_type": "markdown",
   "metadata": {},
   "source": [
    "다른 언어에서 처럼 사용하는 메모이제이션의 가장 기본적인 방법이다.\n",
    "\n",
    "> 다차원 형태의 캐싱이 핖요한 경우 딕셔너리리의 키로 튜플을 사용하여 구현할 수 있다."
   ]
  },
  {
   "cell_type": "markdown",
   "metadata": {},
   "source": [
    "#### 추가 입력으로 딕셔너리를 사용하기"
   ]
  },
  {
   "cell_type": "code",
   "execution_count": 2,
   "metadata": {},
   "outputs": [
    {
     "data": {
      "text/plain": [
       "251728825683549488150424261"
      ]
     },
     "execution_count": 2,
     "metadata": {},
     "output_type": "execute_result"
    }
   ],
   "source": [
    "def fibo(n, cache={}):\n",
    "    # 1. 기저 사례\n",
    "    if n < 2:\n",
    "        return n\n",
    "    \n",
    "    # 2. 캐시 확인\n",
    "    if n in cache:\n",
    "        return cache[n]\n",
    "    \n",
    "    # 3. 계산 후 캐시에 저장\n",
    "    cache[n] = fibo(n-1) + fibo(n-2)\n",
    "    return cache[n]\n",
    "\n",
    "fibo(128)"
   ]
  },
  {
   "cell_type": "markdown",
   "metadata": {},
   "source": [
    "함수 선언 시 딕셔너리를 추가 입력으로 받아서 캐싱을 구현할 수도 있다."
   ]
  },
  {
   "cell_type": "markdown",
   "metadata": {},
   "source": [
    "## 삼항 연산자\n",
    "\n",
    "다른 언어에서와는 다른 방식으로 삼항 연산자를 사용할 수 있다.\n",
    "     \n",
    "```cpp\n",
    "a = (b > c) ? b : c;\n",
    "```\n",
    "\n",
    "보통 일반적으로 삼항 연산자는 위와 같이 사용한다.\n",
    "\n",
    "``` python\n",
    "a = b if b > c else c\n",
    "```\n",
    "\n",
    "파이썬에서는 위와 같이 사용한다."
   ]
  },
  {
   "cell_type": "markdown",
   "metadata": {},
   "source": [
    "## 함수 인자"
   ]
  },
  {
   "cell_type": "markdown",
   "metadata": {},
   "source": [
    "## 기본값"
   ]
  },
  {
   "cell_type": "markdown",
   "metadata": {},
   "source": []
  }
 ],
 "metadata": {
  "kernelspec": {
   "display_name": "Python 3",
   "language": "python",
   "name": "python3"
  },
  "language_info": {
   "codemirror_mode": {
    "name": "ipython",
    "version": 3
   },
   "file_extension": ".py",
   "mimetype": "text/x-python",
   "name": "python",
   "nbconvert_exporter": "python",
   "pygments_lexer": "ipython3",
   "version": "3.11.4"
  }
 },
 "nbformat": 4,
 "nbformat_minor": 2
}
